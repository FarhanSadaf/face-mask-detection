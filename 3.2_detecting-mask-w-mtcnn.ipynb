{
 "cells": [
  {
   "cell_type": "markdown",
   "metadata": {},
   "source": [
    "## Multi-Task Cascaded Convolutional Neural Network (MTCNN)\n",
    "\n",
    "<b>Links:</b>\n",
    "\n",
    "- <a href=\"https://machinelearningmastery.com/how-to-perform-face-detection-with-classical-and-deep-learning-methods-in-python-with-keras/\">How to Perform Face Detection with Deep Learning</a>\n",
    "\n",
    "- <a href=\"https://github.com/ipazc/mtcnn\">GitHub MTCNN</a>"
   ]
  },
  {
   "cell_type": "markdown",
   "metadata": {},
   "source": [
    "### Importing Libraries"
   ]
  },
  {
   "cell_type": "code",
   "execution_count": 1,
   "metadata": {},
   "outputs": [],
   "source": [
    "import time\n",
    "import pickle\n",
    "import numpy as np\n",
    "import cv2\n",
    "from mtcnn.mtcnn import MTCNN\n",
    "from tensorflow.keras.models import load_model"
   ]
  },
  {
   "cell_type": "markdown",
   "metadata": {},
   "source": [
    "### Load model"
   ]
  },
  {
   "cell_type": "code",
   "execution_count": 2,
   "metadata": {},
   "outputs": [],
   "source": [
    "model = load_model('data/inceptionV3-model.h5')"
   ]
  },
  {
   "cell_type": "markdown",
   "metadata": {},
   "source": [
    "### Detection from webcam"
   ]
  },
  {
   "cell_type": "code",
   "execution_count": 24,
   "metadata": {},
   "outputs": [
    {
     "name": "stdout",
     "output_type": "stream",
     "text": [
      "{0: 'without_mask', 1: 'with_mask', 2: 'mask_weared_incorrect'}\n"
     ]
    }
   ],
   "source": [
    "with open('data/category2label.pkl', 'rb') as pf:\n",
    "    category2label = pickle.load(pf)\n",
    "\n",
    "print(category2label)\n",
    "\n",
    "img_size = (100, 100)\n",
    "colors = {0: (0, 0, 255), 1: (0, 255, 0), 2: (0, 255, 255)}"
   ]
  },
  {
   "cell_type": "code",
   "execution_count": 56,
   "metadata": {
    "scrolled": true
   },
   "outputs": [],
   "source": [
    "# Create detector with default weights\n",
    "detector = MTCNN()\n",
    "\n",
    "# Video from webcam\n",
    "cap = cv2.VideoCapture(0)\n",
    "\n",
    "start_time = time.time()\n",
    "frame_count = 0\n",
    "\n",
    "while cap.isOpened():\n",
    "    ret, frame = cap.read()  \n",
    "    \n",
    "    if not ret:\n",
    "        break\n",
    "    \n",
    "    frame_count += 1     # for fps\n",
    "    frame = cv2.flip(frame, 1)       # Mirror the image\n",
    "    rgb = cv2.cvtColor(frame, cv2.COLOR_BGR2RGB)\n",
    "    faces = detector.detect_faces(rgb)\n",
    "    for face in faces:\n",
    "        try:\n",
    "            x, y, w, h = face['box'] \n",
    "            # Predict\n",
    "            roi =  rgb[y : y+h, x : x+w]\n",
    "            data = cv2.resize(roi, img_size)\n",
    "            data = data / 255.\n",
    "            data = data.reshape((1,) + data.shape)\n",
    "            scores = model.predict(data)\n",
    "            target = np.argmax(scores, axis=1)[0]\n",
    "            # Draw bounding boxes\n",
    "            cv2.rectangle(img=frame, pt1=(x, y), pt2=(x+w, y+h), color=colors[target], thickness=2)\n",
    "            text = \"{}: {:.2f}\".format(category2label[target], scores[0][target])\n",
    "            cv2.putText(frame, text, (x, y-5), cv2.FONT_HERSHEY_SIMPLEX, 0.6, (255, 255, 255), 1)\n",
    "        except Exception as e:\n",
    "            print(e)\n",
    "            print(roi.shape)\n",
    "\n",
    "    elapsed_time = time.time() - start_time\n",
    "    fps = frame_count / elapsed_time\n",
    "    cv2.putText(img=frame, text='FPS : ' + str(round(fps, 2)), org=(10, 20), fontFace=cv2.FONT_HERSHEY_SIMPLEX, fontScale=0.5, color=(255,255,255), thickness=1)\n",
    "\n",
    "    # Show the frame\n",
    "    cv2.imshow('Face Mask Detection', frame)\n",
    "\n",
    "    if cv2.waitKey(1) & 0xFF == 27:\n",
    "        break\n",
    "\n",
    "cap.release()\n",
    "cv2.destroyAllWindows()"
   ]
  },
  {
   "cell_type": "markdown",
   "metadata": {},
   "source": [
    "Average <b>FPS</b> is about 1.3."
   ]
  }
 ],
 "metadata": {
  "kernelspec": {
   "display_name": "Python 3",
   "language": "python",
   "name": "python3"
  },
  "language_info": {
   "codemirror_mode": {
    "name": "ipython",
    "version": 3
   },
   "file_extension": ".py",
   "mimetype": "text/x-python",
   "name": "python",
   "nbconvert_exporter": "python",
   "pygments_lexer": "ipython3",
   "version": "3.8.1"
  }
 },
 "nbformat": 4,
 "nbformat_minor": 4
}
